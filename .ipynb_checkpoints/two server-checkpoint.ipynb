{
 "cells": [
  {
   "cell_type": "code",
   "execution_count": 1,
   "metadata": {},
   "outputs": [
    {
     "name": "stderr",
     "output_type": "stream",
     "text": [
      "In /home/sifat/.local/lib/python3.6/site-packages/matplotlib/mpl-data/stylelib/_classic_test.mplstyle: \n",
      "The text.latex.preview rcparam was deprecated in Matplotlib 3.3 and will be removed two minor releases later.\n",
      "In /home/sifat/.local/lib/python3.6/site-packages/matplotlib/mpl-data/stylelib/_classic_test.mplstyle: \n",
      "The mathtext.fallback_to_cm rcparam was deprecated in Matplotlib 3.3 and will be removed two minor releases later.\n",
      "In /home/sifat/.local/lib/python3.6/site-packages/matplotlib/mpl-data/stylelib/_classic_test.mplstyle: Support for setting the 'mathtext.fallback_to_cm' rcParam is deprecated since 3.3 and will be removed two minor releases later; use 'mathtext.fallback : 'cm' instead.\n",
      "In /home/sifat/.local/lib/python3.6/site-packages/matplotlib/mpl-data/stylelib/_classic_test.mplstyle: \n",
      "The validate_bool_maybe_none function was deprecated in Matplotlib 3.3 and will be removed two minor releases later.\n",
      "In /home/sifat/.local/lib/python3.6/site-packages/matplotlib/mpl-data/stylelib/_classic_test.mplstyle: \n",
      "The savefig.jpeg_quality rcparam was deprecated in Matplotlib 3.3 and will be removed two minor releases later.\n",
      "In /home/sifat/.local/lib/python3.6/site-packages/matplotlib/mpl-data/stylelib/_classic_test.mplstyle: \n",
      "The keymap.all_axes rcparam was deprecated in Matplotlib 3.3 and will be removed two minor releases later.\n",
      "In /home/sifat/.local/lib/python3.6/site-packages/matplotlib/mpl-data/stylelib/_classic_test.mplstyle: \n",
      "The animation.avconv_path rcparam was deprecated in Matplotlib 3.3 and will be removed two minor releases later.\n",
      "In /home/sifat/.local/lib/python3.6/site-packages/matplotlib/mpl-data/stylelib/_classic_test.mplstyle: \n",
      "The animation.avconv_args rcparam was deprecated in Matplotlib 3.3 and will be removed two minor releases later.\n"
     ]
    }
   ],
   "source": [
    "import pandas as pd \n",
    "from matplotlib import pyplot as plt\n",
    "import numpy as np"
   ]
  },
  {
   "cell_type": "code",
   "execution_count": 2,
   "metadata": {},
   "outputs": [
    {
     "data": {
      "text/html": [
       "<div>\n",
       "<style scoped>\n",
       "    .dataframe tbody tr th:only-of-type {\n",
       "        vertical-align: middle;\n",
       "    }\n",
       "\n",
       "    .dataframe tbody tr th {\n",
       "        vertical-align: top;\n",
       "    }\n",
       "\n",
       "    .dataframe thead th {\n",
       "        text-align: right;\n",
       "    }\n",
       "</style>\n",
       "<table border=\"1\" class=\"dataframe\">\n",
       "  <thead>\n",
       "    <tr style=\"text-align: right;\">\n",
       "      <th></th>\n",
       "      <th>time_between_arival</th>\n",
       "      <th>probability</th>\n",
       "      <th>C_probability</th>\n",
       "      <th>R1</th>\n",
       "      <th>R2</th>\n",
       "    </tr>\n",
       "  </thead>\n",
       "  <tbody>\n",
       "    <tr>\n",
       "      <th>0</th>\n",
       "      <td>1</td>\n",
       "      <td>0.25</td>\n",
       "      <td>0.25</td>\n",
       "      <td>1</td>\n",
       "      <td>25</td>\n",
       "    </tr>\n",
       "    <tr>\n",
       "      <th>1</th>\n",
       "      <td>2</td>\n",
       "      <td>0.40</td>\n",
       "      <td>0.65</td>\n",
       "      <td>26</td>\n",
       "      <td>65</td>\n",
       "    </tr>\n",
       "    <tr>\n",
       "      <th>2</th>\n",
       "      <td>3</td>\n",
       "      <td>0.20</td>\n",
       "      <td>0.85</td>\n",
       "      <td>66</td>\n",
       "      <td>85</td>\n",
       "    </tr>\n",
       "    <tr>\n",
       "      <th>3</th>\n",
       "      <td>4</td>\n",
       "      <td>0.15</td>\n",
       "      <td>1.00</td>\n",
       "      <td>86</td>\n",
       "      <td>0</td>\n",
       "    </tr>\n",
       "  </tbody>\n",
       "</table>\n",
       "</div>"
      ],
      "text/plain": [
       "   time_between_arival  probability  C_probability  R1  R2\n",
       "0                    1         0.25           0.25   1  25\n",
       "1                    2         0.40           0.65  26  65\n",
       "2                    3         0.20           0.85  66  85\n",
       "3                    4         0.15           1.00  86   0"
      ]
     },
     "execution_count": 2,
     "metadata": {},
     "output_type": "execute_result"
    }
   ],
   "source": [
    "#distribution table of time between arrival\n",
    "\n",
    "df_time_between_arrival = pd.DataFrame({'time_between_arival':[1,2,3,4],'probability':[.25,.40,.20,.15],'C_probability':[.25,.65,.85,1.00],'R1':[1,26,66,86],'R2':[25,65,85,0]})\n",
    "\n",
    "df_time_between_arrival.head()"
   ]
  },
  {
   "cell_type": "code",
   "execution_count": 3,
   "metadata": {},
   "outputs": [
    {
     "data": {
      "text/html": [
       "<div>\n",
       "<style scoped>\n",
       "    .dataframe tbody tr th:only-of-type {\n",
       "        vertical-align: middle;\n",
       "    }\n",
       "\n",
       "    .dataframe tbody tr th {\n",
       "        vertical-align: top;\n",
       "    }\n",
       "\n",
       "    .dataframe thead th {\n",
       "        text-align: right;\n",
       "    }\n",
       "</style>\n",
       "<table border=\"1\" class=\"dataframe\">\n",
       "  <thead>\n",
       "    <tr style=\"text-align: right;\">\n",
       "      <th></th>\n",
       "      <th>service_time</th>\n",
       "      <th>probability</th>\n",
       "      <th>C_probability</th>\n",
       "      <th>R1</th>\n",
       "      <th>R2</th>\n",
       "    </tr>\n",
       "  </thead>\n",
       "  <tbody>\n",
       "    <tr>\n",
       "      <th>0</th>\n",
       "      <td>2</td>\n",
       "      <td>0.30</td>\n",
       "      <td>0.30</td>\n",
       "      <td>1</td>\n",
       "      <td>30</td>\n",
       "    </tr>\n",
       "    <tr>\n",
       "      <th>1</th>\n",
       "      <td>3</td>\n",
       "      <td>0.28</td>\n",
       "      <td>0.58</td>\n",
       "      <td>31</td>\n",
       "      <td>58</td>\n",
       "    </tr>\n",
       "    <tr>\n",
       "      <th>2</th>\n",
       "      <td>4</td>\n",
       "      <td>0.25</td>\n",
       "      <td>0.83</td>\n",
       "      <td>59</td>\n",
       "      <td>83</td>\n",
       "    </tr>\n",
       "    <tr>\n",
       "      <th>3</th>\n",
       "      <td>5</td>\n",
       "      <td>0.17</td>\n",
       "      <td>1.00</td>\n",
       "      <td>84</td>\n",
       "      <td>0</td>\n",
       "    </tr>\n",
       "  </tbody>\n",
       "</table>\n",
       "</div>"
      ],
      "text/plain": [
       "   service_time  probability  C_probability  R1  R2\n",
       "0             2         0.30           0.30   1  30\n",
       "1             3         0.28           0.58  31  58\n",
       "2             4         0.25           0.83  59  83\n",
       "3             5         0.17           1.00  84   0"
      ]
     },
     "execution_count": 3,
     "metadata": {},
     "output_type": "execute_result"
    }
   ],
   "source": [
    "#service distribution table of Able\n",
    "\n",
    "df_service_of_able = pd.DataFrame({'service_time':[2,3,4,5],'probability':[.30,.28,.25,.17],'C_probability':[.30,.58,.83,1.00],'R1':[1,31,59,84],'R2':[30,58,83,0]})\n",
    "\n",
    "df_service_of_able.head()"
   ]
  },
  {
   "cell_type": "code",
   "execution_count": 4,
   "metadata": {},
   "outputs": [
    {
     "data": {
      "text/html": [
       "<div>\n",
       "<style scoped>\n",
       "    .dataframe tbody tr th:only-of-type {\n",
       "        vertical-align: middle;\n",
       "    }\n",
       "\n",
       "    .dataframe tbody tr th {\n",
       "        vertical-align: top;\n",
       "    }\n",
       "\n",
       "    .dataframe thead th {\n",
       "        text-align: right;\n",
       "    }\n",
       "</style>\n",
       "<table border=\"1\" class=\"dataframe\">\n",
       "  <thead>\n",
       "    <tr style=\"text-align: right;\">\n",
       "      <th></th>\n",
       "      <th>service_time</th>\n",
       "      <th>probability</th>\n",
       "      <th>C_probability</th>\n",
       "      <th>R1</th>\n",
       "      <th>R2</th>\n",
       "    </tr>\n",
       "  </thead>\n",
       "  <tbody>\n",
       "    <tr>\n",
       "      <th>0</th>\n",
       "      <td>3</td>\n",
       "      <td>0.35</td>\n",
       "      <td>0.35</td>\n",
       "      <td>1</td>\n",
       "      <td>35</td>\n",
       "    </tr>\n",
       "    <tr>\n",
       "      <th>1</th>\n",
       "      <td>4</td>\n",
       "      <td>0.25</td>\n",
       "      <td>0.60</td>\n",
       "      <td>36</td>\n",
       "      <td>60</td>\n",
       "    </tr>\n",
       "    <tr>\n",
       "      <th>2</th>\n",
       "      <td>5</td>\n",
       "      <td>0.20</td>\n",
       "      <td>0.80</td>\n",
       "      <td>61</td>\n",
       "      <td>80</td>\n",
       "    </tr>\n",
       "    <tr>\n",
       "      <th>3</th>\n",
       "      <td>6</td>\n",
       "      <td>0.20</td>\n",
       "      <td>1.00</td>\n",
       "      <td>81</td>\n",
       "      <td>0</td>\n",
       "    </tr>\n",
       "  </tbody>\n",
       "</table>\n",
       "</div>"
      ],
      "text/plain": [
       "   service_time  probability  C_probability  R1  R2\n",
       "0             3         0.35           0.35   1  35\n",
       "1             4         0.25           0.60  36  60\n",
       "2             5         0.20           0.80  61  80\n",
       "3             6         0.20           1.00  81   0"
      ]
     },
     "execution_count": 4,
     "metadata": {},
     "output_type": "execute_result"
    }
   ],
   "source": [
    "#service time distribution table of baker\n",
    "\n",
    "df_service_of_baker = pd.DataFrame({'service_time':[3,4,5,6],'probability':[.35,.25,.20,.20],'C_probability':[.35,.60,.80,1.00],'R1':[1,36,61,81],'R2':[35,60,80,0]})\n",
    "\n",
    "df_service_of_baker.head()"
   ]
  },
  {
   "cell_type": "code",
   "execution_count": 5,
   "metadata": {},
   "outputs": [
    {
     "name": "stdout",
     "output_type": "stream",
     "text": [
      "[13, 78, 89, 96, 83, 67, 31, 34, 94, 32]\n"
     ]
    }
   ],
   "source": [
    "#Now we will generate random 100 user arival time using uniform distribution 1-86\n",
    "import random\n",
    "from random import seed\n",
    "from random import randint\n",
    "seed(14)\n",
    "\n",
    "random_list = []\n",
    "\n",
    "number_of_users = 100\n",
    "N = number_of_users\n",
    "\n",
    "for _ in range(number_of_users-1):\n",
    "    random_list.append(randint(0,99))\n",
    "print(random_list[0:10])  "
   ]
  },
  {
   "cell_type": "code",
   "execution_count": 6,
   "metadata": {},
   "outputs": [
    {
     "name": "stdout",
     "output_type": "stream",
     "text": [
      "[1, 3, 4, 4, 3, 3, 2, 2, 4, 2]\n"
     ]
    }
   ],
   "source": [
    "def get_time_between_arrival(data):\n",
    "    result=[]\n",
    "    for d in data:\n",
    "        if d<=25 and d>=1:\n",
    "            result.append(1)\n",
    "        elif d<=65 and d>=26:\n",
    "            result.append(2)\n",
    "        elif d<=85 and d>=66:\n",
    "            result.append(3)\n",
    "        else:\n",
    "            result.append(4)\n",
    "    return result\n",
    "\n",
    "time_bet_arrival = get_time_between_arrival(random_list)\n",
    "\n",
    "print(time_bet_arrival[0:10])"
   ]
  },
  {
   "cell_type": "code",
   "execution_count": 7,
   "metadata": {},
   "outputs": [
    {
     "name": "stdout",
     "output_type": "stream",
     "text": [
      "[0, 1, 4, 8, 12, 15, 18, 20, 22, 26]\n"
     ]
    }
   ],
   "source": [
    "#clock time of arrival\n",
    "\n",
    "clock_time_of_arrival = []\n",
    "\n",
    "#assign 0 for first one\n",
    "clock_time_of_arrival.append(0)\n",
    "\n",
    "current_time = 0\n",
    "\n",
    "for time in time_bet_arrival:\n",
    "    clock_time_of_arrival.append(current_time+time)\n",
    "    current_time = current_time+time\n",
    "\n",
    "print(clock_time_of_arrival[0:10])\n"
   ]
  },
  {
   "cell_type": "code",
   "execution_count": 8,
   "metadata": {},
   "outputs": [
    {
     "name": "stdout",
     "output_type": "stream",
     "text": [
      "100\n"
     ]
    }
   ],
   "source": [
    "print(len(clock_time_of_arrival))"
   ]
  },
  {
   "cell_type": "code",
   "execution_count": 9,
   "metadata": {},
   "outputs": [],
   "source": [
    "def get_service_time_of_able(data):\n",
    "    if data<=30 and data>=1:\n",
    "        return 2\n",
    "    elif data<=58 and data>=31:\n",
    "        return 3\n",
    "    elif data<=83 and data>=59:\n",
    "        return 4\n",
    "    else:\n",
    "        return 5"
   ]
  },
  {
   "cell_type": "code",
   "execution_count": 10,
   "metadata": {},
   "outputs": [],
   "source": [
    "def get_service_time_of_baker(data):\n",
    "    if data<=35 and data>=1:\n",
    "        return 3\n",
    "    elif data<=60 and data>=36:\n",
    "        return 4\n",
    "    elif data<=80 and data>=61:\n",
    "        return 5\n",
    "    else:\n",
    "        return 6"
   ]
  },
  {
   "cell_type": "code",
   "execution_count": 11,
   "metadata": {},
   "outputs": [
    {
     "name": "stdout",
     "output_type": "stream",
     "text": [
      "[39, 62, 58, 55, 53, 76, 12, 32, 60, 50]\n"
     ]
    }
   ],
   "source": [
    "# generate random number for service time\n",
    "\n",
    "random_list = []\n",
    "\n",
    "number_of_users = 100\n",
    "\n",
    "for _ in range(number_of_users):\n",
    "    random_list.append(randint(0,99))\n",
    "print(random_list[0:10])  "
   ]
  },
  {
   "cell_type": "code",
   "execution_count": 12,
   "metadata": {},
   "outputs": [],
   "source": [
    "able_service_time_begins = [None for _ in range(number_of_users)]\n",
    "able_service_time = [None for _ in range(number_of_users)]\n",
    "able_service_time_ends = [None for _ in range(number_of_users)]\n",
    "\n",
    "baker_service_time_begins = [None for _ in range(number_of_users)]\n",
    "baker_service_time = [None for _ in range(number_of_users)]\n",
    "baker_service_time_ends = [None for _ in range(number_of_users)]\n",
    "\n",
    "able_server_busy = False\n",
    "able_server_job_id = None\n",
    "baker_server_busy = False\n",
    "baker_server_job_id = None\n",
    "System_clock = 0\n",
    "qeue_line = [0 for _ in range(number_of_users)]\n",
    "i=0"
   ]
  },
  {
   "cell_type": "code",
   "execution_count": 13,
   "metadata": {},
   "outputs": [],
   "source": [
    "while number_of_users >0:\n",
    "    \n",
    "        if able_server_busy:\n",
    "            if System_clock==able_service_time_ends[able_server_job_id]:\n",
    "                able_server_busy = False\n",
    "        if baker_server_busy:\n",
    "            if System_clock==baker_service_time_ends[baker_server_job_id]:\n",
    "                baker_server_busy = False\n",
    "        if clock_time_of_arrival[i] <= System_clock:\n",
    "            waiting_flag = i\n",
    "            while (not(able_server_busy) or not(baker_server_busy)) and (clock_time_of_arrival[i] <= System_clock):\n",
    "                if (not able_server_busy) and (not baker_server_busy):\n",
    "                    able_server_busy = True\n",
    "                    able_service_time_begins[i] = System_clock\n",
    "                    able_service_time[i]=get_service_time_of_able(random_list[i])\n",
    "                    able_service_time_ends[i] = able_service_time_begins[i] + able_service_time[i]\n",
    "                    able_server_job_id = i\n",
    "                    i+=1\n",
    "                    number_of_users-=1\n",
    "                elif not(able_server_busy):\n",
    "                    able_server_busy = True\n",
    "                    able_service_time_begins[i] = System_clock\n",
    "                    able_service_time[i]=get_service_time_of_able(random_list[i])\n",
    "                    able_service_time_ends[i] = able_service_time_begins[i] + able_service_time[i]\n",
    "                    able_server_job_id = i\n",
    "                    i+=1\n",
    "                    number_of_users-=1\n",
    "                elif not(baker_server_busy):\n",
    "                    baker_server_busy = True\n",
    "                    baker_service_time_begins[i] = System_clock\n",
    "                    baker_service_time[i]=get_service_time_of_baker(random_list[i])\n",
    "                    baker_service_time_ends[i] = baker_service_time_begins[i] + baker_service_time[i]\n",
    "                    baker_server_job_id = i\n",
    "                    i+=1\n",
    "                    number_of_users-=1\n",
    "            if waiting_flag == i:\n",
    "                qeue_line[i]+=1\n",
    "        System_clock+=1\n",
    "    #print(System_clock)\n",
    "    "
   ]
  },
  {
   "cell_type": "code",
   "execution_count": 14,
   "metadata": {},
   "outputs": [
    {
     "name": "stdout",
     "output_type": "stream",
     "text": [
      "[0, None, 4, 8, 12, 15, None, 20, None, 26, None, 30, 34, None, 38, 40, None, 44, 48, None, 53, None, 57, 59, None, 64, None, 67, None, 72, None, 78, None, 82, None, 86, None, 91, None, 93, 97, None, None, 101, None, 104, 106, None, 109, 111, None, 116, None, 121, None, 125, 129, None, 133, 136, None, 142, None, 147, None, 150, None, 154, 158, None, 161, None, 166, None, 170, None, 175, 177, None, 181, None, 186, 188, None, 192, 194, None, 197, 200, None, 203, None, 207, None, 212, None, 216, 218, None, 221]\n"
     ]
    }
   ],
   "source": [
    "print(able_service_time_begins)"
   ]
  },
  {
   "cell_type": "code",
   "execution_count": 15,
   "metadata": {},
   "outputs": [
    {
     "name": "stdout",
     "output_type": "stream",
     "text": [
      "[0, 0, 0, 0, 0, 0, 0, 0, 0, 0, 0, 0, 0, 0, 0, 0, 0, 0, 0, 0, 1, 0, 0, 0, 0, 1, 0, 0, 0, 0, 0, 0, 0, 2, 0, 0, 0, 0, 0, 0, 1, 0, 2, 0, 0, 0, 1, 0, 0, 0, 0, 0, 0, 0, 0, 0, 0, 0, 0, 0, 0, 0, 0, 2, 0, 0, 0, 0, 0, 0, 0, 1, 0, 0, 0, 2, 0, 1, 0, 2, 1, 2, 1, 0, 2, 1, 0, 1, 2, 0, 2, 0, 2, 1, 2, 0, 2, 1, 0, 1]\n"
     ]
    }
   ],
   "source": [
    "print(qeue_line)"
   ]
  },
  {
   "cell_type": "code",
   "execution_count": 16,
   "metadata": {},
   "outputs": [
    {
     "name": "stdout",
     "output_type": "stream",
     "text": [
      "[3, None, 7, 11, 15, 19, None, 23, None, 29, None, 33, 38, None, 40, 44, None, 48, 53, None, 57, None, 59, 64, None, 67, None, 70, None, 76, None, 82, None, 85, None, 90, None, 93, None, 97, 101, None, None, 104, None, 106, 108, None, 111, 116, None, 120, None, 125, None, 128, 131, None, 135, 141, None, 147, None, 150, None, 153, None, 157, 160, None, 166, None, 169, None, 175, None, 177, 181, None, 186, None, 188, 192, None, 194, 197, None, 200, 203, None, 207, None, 212, None, 216, None, 218, 221, None, 224]\n"
     ]
    }
   ],
   "source": [
    "print(able_service_time_ends)"
   ]
  },
  {
   "cell_type": "code",
   "execution_count": 17,
   "metadata": {},
   "outputs": [],
   "source": [
    "Final_DF = pd.DataFrame({'Arrival_Time': clock_time_of_arrival,\n",
    "                         'Random_Digit_For_Service': random_list,'Able_service_time_begins': able_service_time_begins,\n",
    "                        'Able_service_time': able_service_time,'Able_service_time_ends': able_service_time_ends,\n",
    "                        'Baker_service_time_begins': baker_service_time_begins,\n",
    "                        'Baker_service_time': baker_service_time,'Baker_service_time_ends': baker_service_time_ends,\n",
    "                        'Qeue': qeue_line})"
   ]
  },
  {
   "cell_type": "code",
   "execution_count": 18,
   "metadata": {},
   "outputs": [
    {
     "data": {
      "text/html": [
       "<div>\n",
       "<style scoped>\n",
       "    .dataframe tbody tr th:only-of-type {\n",
       "        vertical-align: middle;\n",
       "    }\n",
       "\n",
       "    .dataframe tbody tr th {\n",
       "        vertical-align: top;\n",
       "    }\n",
       "\n",
       "    .dataframe thead th {\n",
       "        text-align: right;\n",
       "    }\n",
       "</style>\n",
       "<table border=\"1\" class=\"dataframe\">\n",
       "  <thead>\n",
       "    <tr style=\"text-align: right;\">\n",
       "      <th></th>\n",
       "      <th>Arrival_Time</th>\n",
       "      <th>Random_Digit_For_Service</th>\n",
       "      <th>Able_service_time_begins</th>\n",
       "      <th>Able_service_time</th>\n",
       "      <th>Able_service_time_ends</th>\n",
       "      <th>Baker_service_time_begins</th>\n",
       "      <th>Baker_service_time</th>\n",
       "      <th>Baker_service_time_ends</th>\n",
       "      <th>Qeue</th>\n",
       "    </tr>\n",
       "  </thead>\n",
       "  <tbody>\n",
       "    <tr>\n",
       "      <th>0</th>\n",
       "      <td>0</td>\n",
       "      <td>39</td>\n",
       "      <td>0.0</td>\n",
       "      <td>3.0</td>\n",
       "      <td>3.0</td>\n",
       "      <td>NaN</td>\n",
       "      <td>NaN</td>\n",
       "      <td>NaN</td>\n",
       "      <td>0</td>\n",
       "    </tr>\n",
       "    <tr>\n",
       "      <th>1</th>\n",
       "      <td>1</td>\n",
       "      <td>62</td>\n",
       "      <td>NaN</td>\n",
       "      <td>NaN</td>\n",
       "      <td>NaN</td>\n",
       "      <td>1.0</td>\n",
       "      <td>5.0</td>\n",
       "      <td>6.0</td>\n",
       "      <td>0</td>\n",
       "    </tr>\n",
       "    <tr>\n",
       "      <th>2</th>\n",
       "      <td>4</td>\n",
       "      <td>58</td>\n",
       "      <td>4.0</td>\n",
       "      <td>3.0</td>\n",
       "      <td>7.0</td>\n",
       "      <td>NaN</td>\n",
       "      <td>NaN</td>\n",
       "      <td>NaN</td>\n",
       "      <td>0</td>\n",
       "    </tr>\n",
       "    <tr>\n",
       "      <th>3</th>\n",
       "      <td>8</td>\n",
       "      <td>55</td>\n",
       "      <td>8.0</td>\n",
       "      <td>3.0</td>\n",
       "      <td>11.0</td>\n",
       "      <td>NaN</td>\n",
       "      <td>NaN</td>\n",
       "      <td>NaN</td>\n",
       "      <td>0</td>\n",
       "    </tr>\n",
       "    <tr>\n",
       "      <th>4</th>\n",
       "      <td>12</td>\n",
       "      <td>53</td>\n",
       "      <td>12.0</td>\n",
       "      <td>3.0</td>\n",
       "      <td>15.0</td>\n",
       "      <td>NaN</td>\n",
       "      <td>NaN</td>\n",
       "      <td>NaN</td>\n",
       "      <td>0</td>\n",
       "    </tr>\n",
       "  </tbody>\n",
       "</table>\n",
       "</div>"
      ],
      "text/plain": [
       "   Arrival_Time  Random_Digit_For_Service  Able_service_time_begins  \\\n",
       "0             0                        39                       0.0   \n",
       "1             1                        62                       NaN   \n",
       "2             4                        58                       4.0   \n",
       "3             8                        55                       8.0   \n",
       "4            12                        53                      12.0   \n",
       "\n",
       "   Able_service_time  Able_service_time_ends  Baker_service_time_begins  \\\n",
       "0                3.0                     3.0                        NaN   \n",
       "1                NaN                     NaN                        1.0   \n",
       "2                3.0                     7.0                        NaN   \n",
       "3                3.0                    11.0                        NaN   \n",
       "4                3.0                    15.0                        NaN   \n",
       "\n",
       "   Baker_service_time  Baker_service_time_ends  Qeue  \n",
       "0                 NaN                      NaN     0  \n",
       "1                 5.0                      6.0     0  \n",
       "2                 NaN                      NaN     0  \n",
       "3                 NaN                      NaN     0  \n",
       "4                 NaN                      NaN     0  "
      ]
     },
     "execution_count": 18,
     "metadata": {},
     "output_type": "execute_result"
    }
   ],
   "source": [
    "Final_DF.head()"
   ]
  },
  {
   "cell_type": "code",
   "execution_count": 19,
   "metadata": {},
   "outputs": [
    {
     "ename": "SyntaxError",
     "evalue": "invalid syntax (<ipython-input-19-86212f7ca617>, line 2)",
     "output_type": "error",
     "traceback": [
      "\u001b[0;36m  File \u001b[0;32m\"<ipython-input-19-86212f7ca617>\"\u001b[0;36m, line \u001b[0;32m2\u001b[0m\n\u001b[0;31m    print(\"AVG time of Idle Server :\",sum(qeue_line)/)\u001b[0m\n\u001b[0m                                                     ^\u001b[0m\n\u001b[0;31mSyntaxError\u001b[0m\u001b[0;31m:\u001b[0m invalid syntax\n"
     ]
    }
   ],
   "source": [
    "print(\"Probability Of Idle Server :\",sum(qeue_line)/System_clock)\n",
    "print(\"AVG time of Idle Server :\",sum(qeue_line)/)"
   ]
  },
  {
   "cell_type": "code",
   "execution_count": null,
   "metadata": {},
   "outputs": [],
   "source": []
  }
 ],
 "metadata": {
  "kernelspec": {
   "display_name": "Python 3",
   "language": "python",
   "name": "python3"
  },
  "language_info": {
   "codemirror_mode": {
    "name": "ipython",
    "version": 3
   },
   "file_extension": ".py",
   "mimetype": "text/x-python",
   "name": "python",
   "nbconvert_exporter": "python",
   "pygments_lexer": "ipython3",
   "version": "3.6.9"
  }
 },
 "nbformat": 4,
 "nbformat_minor": 4
}
